{
  "nbformat": 4,
  "nbformat_minor": 0,
  "metadata": {
    "colab": {
      "name": "RK1.ipynb",
      "provenance": [],
      "collapsed_sections": []
    },
    "kernelspec": {
      "name": "python3",
      "display_name": "Python 3"
    },
    "language_info": {
      "name": "python"
    }
  },
  "cells": [
    {
      "cell_type": "code",
      "execution_count": null,
      "metadata": {
        "id": "NR_tMoaZ68cx"
      },
      "outputs": [],
      "source": [
        ""
      ]
    },
    {
      "cell_type": "markdown",
      "source": [
        "#Рубежный контроль №1\n",
        "**Тема: Технологии разведочного анализа и обработки данных.**\n",
        "\n",
        "**Вариант №5**\n",
        "\n",
        "*Задача №1.*\n",
        "\n",
        "Для заданного набора данных проведите корреляционный анализ. В случае наличия пропусков в данных удалите строки или колонки, содержащие пропуски. Сделайте выводы о возможности построения моделей машинного обучения и о возможном вкладе признаков в модель.\n",
        "\n",
        "*Дополнительные требования по группам:*\n",
        "\n",
        "Для студентов групп ИУ5-63Б, ИУ5Ц-83Б - для произвольной колонки данных построить график \"Ящик с усами (boxplot)\".\n"
      ],
      "metadata": {
        "id": "hTZ-Agt-6JEM"
      }
    },
    {
      "cell_type": "markdown",
      "source": [
        "## 1) Текстовое описание набора данных:\n",
        "В качестве набора данных мы будем использовать набор данных:\n",
        "\"Heart Disease Dataset.\"\n",
        "(https://www.kaggle.com/datasets/johnsmith88/heart-disease-dataset)\n",
        "\n",
        "**Файл содержит следующие колонки:**\n",
        "\n",
        "1. Возраст\n",
        "2. Пол\n",
        "3. Тип боли в груди\n",
        "4. Кровяное давление в состоянии покоя \n",
        "5. Сывороточный холестерин \n",
        "6. Уровень сахара в крови натощак\n",
        "7. Результаты электрокардиографии в состоянии покоя\n",
        "8. Достигнутая максимальная частота сердечных сокращений\n",
        "9. Стенокардия, вызванная физической нагрузкой\n",
        "10. Депрессия\n",
        "11. Наклон пикового сегмента ST упражнения\n",
        "12. Количество крупных сосудов (0-3), окрашенных флуороскопией\n",
        "13. Имена и номера социального страхования пациентов"
      ],
      "metadata": {
        "id": "pQTCTGML6_6F"
      }
    },
    {
      "cell_type": "markdown",
      "source": [
        "# Импорт библиотек:"
      ],
      "metadata": {
        "id": "Bdi35dyx8inu"
      }
    },
    {
      "cell_type": "code",
      "source": [
        "import pandas as pd\n",
        "import numpy as np\n",
        "import matplotlib.pyplot as plt\n",
        "import seaborn as sns"
      ],
      "metadata": {
        "id": "D1B5dA3n8jbo"
      },
      "execution_count": 2,
      "outputs": []
    },
    {
      "cell_type": "markdown",
      "source": [
        "# Загрузка данных:\n",
        "\n",
        "Загрузим файлы датасета в помощью библиотеки Pandas. "
      ],
      "metadata": {
        "id": "GeBCIwEX8rGj"
      }
    },
    {
      "cell_type": "code",
      "source": [
        "data = pd.read_csv('/content/heart.csv', sep=\",\")"
      ],
      "metadata": {
        "id": "iuUfpFEw8v7K"
      },
      "execution_count": 3,
      "outputs": []
    },
    {
      "cell_type": "markdown",
      "source": [
        "**Первые 5 строк датасета:**"
      ],
      "metadata": {
        "id": "DGRpANAM9RVD"
      }
    },
    {
      "cell_type": "code",
      "source": [
        "data.head()"
      ],
      "metadata": {
        "colab": {
          "base_uri": "https://localhost:8080/",
          "height": 206
        },
        "id": "cJJZoeJ69WlO",
        "outputId": "f6737c13-3430-4197-fb0f-0fbc1c25f4fc"
      },
      "execution_count": null,
      "outputs": [
        {
          "output_type": "execute_result",
          "data": {
            "text/plain": [
              "   age  sex  cp  trestbps  chol  fbs  restecg  thalach  exang  oldpeak  slope  \\\n",
              "0   52    1   0       125   212    0        1      168      0      1.0      2   \n",
              "1   53    1   0       140   203    1        0      155      1      3.1      0   \n",
              "2   70    1   0       145   174    0        1      125      1      2.6      0   \n",
              "3   61    1   0       148   203    0        1      161      0      0.0      2   \n",
              "4   62    0   0       138   294    1        1      106      0      1.9      1   \n",
              "\n",
              "   ca  thal  target  \n",
              "0   2     3       0  \n",
              "1   0     3       0  \n",
              "2   0     3       0  \n",
              "3   1     3       0  \n",
              "4   3     2       0  "
            ],
            "text/html": [
              "\n",
              "  <div id=\"df-bdbb626e-78f4-4382-9269-1dae75a0f524\">\n",
              "    <div class=\"colab-df-container\">\n",
              "      <div>\n",
              "<style scoped>\n",
              "    .dataframe tbody tr th:only-of-type {\n",
              "        vertical-align: middle;\n",
              "    }\n",
              "\n",
              "    .dataframe tbody tr th {\n",
              "        vertical-align: top;\n",
              "    }\n",
              "\n",
              "    .dataframe thead th {\n",
              "        text-align: right;\n",
              "    }\n",
              "</style>\n",
              "<table border=\"1\" class=\"dataframe\">\n",
              "  <thead>\n",
              "    <tr style=\"text-align: right;\">\n",
              "      <th></th>\n",
              "      <th>age</th>\n",
              "      <th>sex</th>\n",
              "      <th>cp</th>\n",
              "      <th>trestbps</th>\n",
              "      <th>chol</th>\n",
              "      <th>fbs</th>\n",
              "      <th>restecg</th>\n",
              "      <th>thalach</th>\n",
              "      <th>exang</th>\n",
              "      <th>oldpeak</th>\n",
              "      <th>slope</th>\n",
              "      <th>ca</th>\n",
              "      <th>thal</th>\n",
              "      <th>target</th>\n",
              "    </tr>\n",
              "  </thead>\n",
              "  <tbody>\n",
              "    <tr>\n",
              "      <th>0</th>\n",
              "      <td>52</td>\n",
              "      <td>1</td>\n",
              "      <td>0</td>\n",
              "      <td>125</td>\n",
              "      <td>212</td>\n",
              "      <td>0</td>\n",
              "      <td>1</td>\n",
              "      <td>168</td>\n",
              "      <td>0</td>\n",
              "      <td>1.0</td>\n",
              "      <td>2</td>\n",
              "      <td>2</td>\n",
              "      <td>3</td>\n",
              "      <td>0</td>\n",
              "    </tr>\n",
              "    <tr>\n",
              "      <th>1</th>\n",
              "      <td>53</td>\n",
              "      <td>1</td>\n",
              "      <td>0</td>\n",
              "      <td>140</td>\n",
              "      <td>203</td>\n",
              "      <td>1</td>\n",
              "      <td>0</td>\n",
              "      <td>155</td>\n",
              "      <td>1</td>\n",
              "      <td>3.1</td>\n",
              "      <td>0</td>\n",
              "      <td>0</td>\n",
              "      <td>3</td>\n",
              "      <td>0</td>\n",
              "    </tr>\n",
              "    <tr>\n",
              "      <th>2</th>\n",
              "      <td>70</td>\n",
              "      <td>1</td>\n",
              "      <td>0</td>\n",
              "      <td>145</td>\n",
              "      <td>174</td>\n",
              "      <td>0</td>\n",
              "      <td>1</td>\n",
              "      <td>125</td>\n",
              "      <td>1</td>\n",
              "      <td>2.6</td>\n",
              "      <td>0</td>\n",
              "      <td>0</td>\n",
              "      <td>3</td>\n",
              "      <td>0</td>\n",
              "    </tr>\n",
              "    <tr>\n",
              "      <th>3</th>\n",
              "      <td>61</td>\n",
              "      <td>1</td>\n",
              "      <td>0</td>\n",
              "      <td>148</td>\n",
              "      <td>203</td>\n",
              "      <td>0</td>\n",
              "      <td>1</td>\n",
              "      <td>161</td>\n",
              "      <td>0</td>\n",
              "      <td>0.0</td>\n",
              "      <td>2</td>\n",
              "      <td>1</td>\n",
              "      <td>3</td>\n",
              "      <td>0</td>\n",
              "    </tr>\n",
              "    <tr>\n",
              "      <th>4</th>\n",
              "      <td>62</td>\n",
              "      <td>0</td>\n",
              "      <td>0</td>\n",
              "      <td>138</td>\n",
              "      <td>294</td>\n",
              "      <td>1</td>\n",
              "      <td>1</td>\n",
              "      <td>106</td>\n",
              "      <td>0</td>\n",
              "      <td>1.9</td>\n",
              "      <td>1</td>\n",
              "      <td>3</td>\n",
              "      <td>2</td>\n",
              "      <td>0</td>\n",
              "    </tr>\n",
              "  </tbody>\n",
              "</table>\n",
              "</div>\n",
              "      <button class=\"colab-df-convert\" onclick=\"convertToInteractive('df-bdbb626e-78f4-4382-9269-1dae75a0f524')\"\n",
              "              title=\"Convert this dataframe to an interactive table.\"\n",
              "              style=\"display:none;\">\n",
              "        \n",
              "  <svg xmlns=\"http://www.w3.org/2000/svg\" height=\"24px\"viewBox=\"0 0 24 24\"\n",
              "       width=\"24px\">\n",
              "    <path d=\"M0 0h24v24H0V0z\" fill=\"none\"/>\n",
              "    <path d=\"M18.56 5.44l.94 2.06.94-2.06 2.06-.94-2.06-.94-.94-2.06-.94 2.06-2.06.94zm-11 1L8.5 8.5l.94-2.06 2.06-.94-2.06-.94L8.5 2.5l-.94 2.06-2.06.94zm10 10l.94 2.06.94-2.06 2.06-.94-2.06-.94-.94-2.06-.94 2.06-2.06.94z\"/><path d=\"M17.41 7.96l-1.37-1.37c-.4-.4-.92-.59-1.43-.59-.52 0-1.04.2-1.43.59L10.3 9.45l-7.72 7.72c-.78.78-.78 2.05 0 2.83L4 21.41c.39.39.9.59 1.41.59.51 0 1.02-.2 1.41-.59l7.78-7.78 2.81-2.81c.8-.78.8-2.07 0-2.86zM5.41 20L4 18.59l7.72-7.72 1.47 1.35L5.41 20z\"/>\n",
              "  </svg>\n",
              "      </button>\n",
              "      \n",
              "  <style>\n",
              "    .colab-df-container {\n",
              "      display:flex;\n",
              "      flex-wrap:wrap;\n",
              "      gap: 12px;\n",
              "    }\n",
              "\n",
              "    .colab-df-convert {\n",
              "      background-color: #E8F0FE;\n",
              "      border: none;\n",
              "      border-radius: 50%;\n",
              "      cursor: pointer;\n",
              "      display: none;\n",
              "      fill: #1967D2;\n",
              "      height: 32px;\n",
              "      padding: 0 0 0 0;\n",
              "      width: 32px;\n",
              "    }\n",
              "\n",
              "    .colab-df-convert:hover {\n",
              "      background-color: #E2EBFA;\n",
              "      box-shadow: 0px 1px 2px rgba(60, 64, 67, 0.3), 0px 1px 3px 1px rgba(60, 64, 67, 0.15);\n",
              "      fill: #174EA6;\n",
              "    }\n",
              "\n",
              "    [theme=dark] .colab-df-convert {\n",
              "      background-color: #3B4455;\n",
              "      fill: #D2E3FC;\n",
              "    }\n",
              "\n",
              "    [theme=dark] .colab-df-convert:hover {\n",
              "      background-color: #434B5C;\n",
              "      box-shadow: 0px 1px 3px 1px rgba(0, 0, 0, 0.15);\n",
              "      filter: drop-shadow(0px 1px 2px rgba(0, 0, 0, 0.3));\n",
              "      fill: #FFFFFF;\n",
              "    }\n",
              "  </style>\n",
              "\n",
              "      <script>\n",
              "        const buttonEl =\n",
              "          document.querySelector('#df-bdbb626e-78f4-4382-9269-1dae75a0f524 button.colab-df-convert');\n",
              "        buttonEl.style.display =\n",
              "          google.colab.kernel.accessAllowed ? 'block' : 'none';\n",
              "\n",
              "        async function convertToInteractive(key) {\n",
              "          const element = document.querySelector('#df-bdbb626e-78f4-4382-9269-1dae75a0f524');\n",
              "          const dataTable =\n",
              "            await google.colab.kernel.invokeFunction('convertToInteractive',\n",
              "                                                     [key], {});\n",
              "          if (!dataTable) return;\n",
              "\n",
              "          const docLinkHtml = 'Like what you see? Visit the ' +\n",
              "            '<a target=\"_blank\" href=https://colab.research.google.com/notebooks/data_table.ipynb>data table notebook</a>'\n",
              "            + ' to learn more about interactive tables.';\n",
              "          element.innerHTML = '';\n",
              "          dataTable['output_type'] = 'display_data';\n",
              "          await google.colab.output.renderOutput(dataTable, element);\n",
              "          const docLink = document.createElement('div');\n",
              "          docLink.innerHTML = docLinkHtml;\n",
              "          element.appendChild(docLink);\n",
              "        }\n",
              "      </script>\n",
              "    </div>\n",
              "  </div>\n",
              "  "
            ]
          },
          "metadata": {},
          "execution_count": 4
        }
      ]
    },
    {
      "cell_type": "markdown",
      "source": [
        "**Размер датасета:**"
      ],
      "metadata": {
        "id": "UClysEQj-NLx"
      }
    },
    {
      "cell_type": "code",
      "source": [
        "data.shape"
      ],
      "metadata": {
        "colab": {
          "base_uri": "https://localhost:8080/"
        },
        "id": "hkdwPzc59Wrn",
        "outputId": "a36ac942-4564-4929-cdd8-f999c6841404"
      },
      "execution_count": null,
      "outputs": [
        {
          "output_type": "execute_result",
          "data": {
            "text/plain": [
              "(1025, 14)"
            ]
          },
          "metadata": {},
          "execution_count": 5
        }
      ]
    },
    {
      "cell_type": "markdown",
      "source": [
        "**Список колонок с типами данных:**"
      ],
      "metadata": {
        "id": "GbrUzExj-eys"
      }
    },
    {
      "cell_type": "code",
      "source": [
        "data.dtypes"
      ],
      "metadata": {
        "colab": {
          "base_uri": "https://localhost:8080/"
        },
        "id": "q4xKnV2s-Zrc",
        "outputId": "96139d47-07ef-42a9-c6a8-f9906553051d"
      },
      "execution_count": null,
      "outputs": [
        {
          "output_type": "execute_result",
          "data": {
            "text/plain": [
              "age           int64\n",
              "sex           int64\n",
              "cp            int64\n",
              "trestbps      int64\n",
              "chol          int64\n",
              "fbs           int64\n",
              "restecg       int64\n",
              "thalach       int64\n",
              "exang         int64\n",
              "oldpeak     float64\n",
              "slope         int64\n",
              "ca            int64\n",
              "thal          int64\n",
              "target        int64\n",
              "dtype: object"
            ]
          },
          "metadata": {},
          "execution_count": 6
        }
      ]
    },
    {
      "cell_type": "markdown",
      "source": [
        "# Подготовка данных к анализу:\n",
        "**Проверим наличие пустых значений. В выбранном датасете отсутствуют пустые значения.**"
      ],
      "metadata": {
        "id": "7k43bLUH-psK"
      }
    },
    {
      "cell_type": "code",
      "source": [
        "for col in data.columns:\n",
        "  \n",
        "    temp_null_count = data[data[col].isnull()].shape[0]\n",
        "    print('{} - {}'.format(col, temp_null_count))"
      ],
      "metadata": {
        "colab": {
          "base_uri": "https://localhost:8080/"
        },
        "id": "T40iAYf2-uHN",
        "outputId": "f2c1c392-26d1-42bf-cda1-abf6bf07cca3"
      },
      "execution_count": null,
      "outputs": [
        {
          "output_type": "stream",
          "name": "stdout",
          "text": [
            "age - 0\n",
            "sex - 0\n",
            "cp - 0\n",
            "trestbps - 0\n",
            "chol - 0\n",
            "fbs - 0\n",
            "restecg - 0\n",
            "thalach - 0\n",
            "exang - 0\n",
            "oldpeak - 0\n",
            "slope - 0\n",
            "ca - 0\n",
            "thal - 0\n",
            "target - 0\n"
          ]
        }
      ]
    },
    {
      "cell_type": "markdown",
      "source": [
        "Целевым признаком текущего датасета является столбец \"target\".\n",
        "\n",
        "Определим уникальные значения для целевого признака:"
      ],
      "metadata": {
        "id": "Do-xrfIHi0CM"
      }
    },
    {
      "cell_type": "code",
      "source": [
        "data['target'].unique()"
      ],
      "metadata": {
        "colab": {
          "base_uri": "https://localhost:8080/"
        },
        "id": "E1NJTxy9i5BZ",
        "outputId": "97cc7a1a-99b3-4aa1-fd8d-0effc7cc96b4"
      },
      "execution_count": null,
      "outputs": [
        {
          "output_type": "execute_result",
          "data": {
            "text/plain": [
              "array([0, 1, 2, 3])"
            ]
          },
          "metadata": {},
          "execution_count": 11
        }
      ]
    },
    {
      "cell_type": "markdown",
      "source": [
        "Целевой признак является бинарным и содержит только значения 0 и 1."
      ],
      "metadata": {
        "id": "XIxrMEeWjq2J"
      }
    },
    {
      "cell_type": "markdown",
      "source": [
        "**При помощи pandas построим корреляционную матрицу:**"
      ],
      "metadata": {
        "id": "bGpU_Prqc3dc"
      }
    },
    {
      "cell_type": "code",
      "source": [
        "corr = data.corr()\n",
        "print(corr)"
      ],
      "metadata": {
        "id": "UMpcLyPtc8ba",
        "colab": {
          "base_uri": "https://localhost:8080/"
        },
        "outputId": "beb8f64d-5090-45c7-c868-4fb603e83e68"
      },
      "execution_count": null,
      "outputs": [
        {
          "output_type": "stream",
          "name": "stdout",
          "text": [
            "               age       sex        cp  trestbps      chol       fbs  \\\n",
            "age       1.000000 -0.103240 -0.071966  0.271121  0.219823  0.121243   \n",
            "sex      -0.103240  1.000000 -0.041119 -0.078974 -0.198258  0.027200   \n",
            "cp       -0.071966 -0.041119  1.000000  0.038177 -0.081641  0.079294   \n",
            "trestbps  0.271121 -0.078974  0.038177  1.000000  0.127977  0.181767   \n",
            "chol      0.219823 -0.198258 -0.081641  0.127977  1.000000  0.026917   \n",
            "fbs       0.121243  0.027200  0.079294  0.181767  0.026917  1.000000   \n",
            "restecg  -0.132696 -0.055117  0.043581 -0.123794 -0.147410 -0.104051   \n",
            "thalach  -0.390227 -0.049365  0.306839 -0.039264 -0.021772 -0.008866   \n",
            "exang     0.088163  0.139157 -0.401513  0.061197  0.067382  0.049261   \n",
            "oldpeak   0.208137  0.084687 -0.174733  0.187434  0.064880  0.010859   \n",
            "slope    -0.169105 -0.026666  0.131633 -0.120445 -0.014248 -0.061902   \n",
            "ca        0.271551  0.111729 -0.176206  0.104554  0.074259  0.137156   \n",
            "thal      0.072297  0.198424 -0.163341  0.059276  0.100244 -0.042177   \n",
            "target   -0.229324 -0.279501  0.434854 -0.138772 -0.099966 -0.041164   \n",
            "\n",
            "           restecg   thalach     exang   oldpeak     slope        ca  \\\n",
            "age      -0.132696 -0.390227  0.088163  0.208137 -0.169105  0.271551   \n",
            "sex      -0.055117 -0.049365  0.139157  0.084687 -0.026666  0.111729   \n",
            "cp        0.043581  0.306839 -0.401513 -0.174733  0.131633 -0.176206   \n",
            "trestbps -0.123794 -0.039264  0.061197  0.187434 -0.120445  0.104554   \n",
            "chol     -0.147410 -0.021772  0.067382  0.064880 -0.014248  0.074259   \n",
            "fbs      -0.104051 -0.008866  0.049261  0.010859 -0.061902  0.137156   \n",
            "restecg   1.000000  0.048411 -0.065606 -0.050114  0.086086 -0.078072   \n",
            "thalach   0.048411  1.000000 -0.380281 -0.349796  0.395308 -0.207888   \n",
            "exang    -0.065606 -0.380281  1.000000  0.310844 -0.267335  0.107849   \n",
            "oldpeak  -0.050114 -0.349796  0.310844  1.000000 -0.575189  0.221816   \n",
            "slope     0.086086  0.395308 -0.267335 -0.575189  1.000000 -0.073440   \n",
            "ca       -0.078072 -0.207888  0.107849  0.221816 -0.073440  1.000000   \n",
            "thal     -0.020504 -0.098068  0.197201  0.202672 -0.094090  0.149014   \n",
            "target    0.134468  0.422895 -0.438029 -0.438441  0.345512 -0.382085   \n",
            "\n",
            "              thal    target  \n",
            "age       0.072297 -0.229324  \n",
            "sex       0.198424 -0.279501  \n",
            "cp       -0.163341  0.434854  \n",
            "trestbps  0.059276 -0.138772  \n",
            "chol      0.100244 -0.099966  \n",
            "fbs      -0.042177 -0.041164  \n",
            "restecg  -0.020504  0.134468  \n",
            "thalach  -0.098068  0.422895  \n",
            "exang     0.197201 -0.438029  \n",
            "oldpeak   0.202672 -0.438441  \n",
            "slope    -0.094090  0.345512  \n",
            "ca        0.149014 -0.382085  \n",
            "thal      1.000000 -0.337838  \n",
            "target   -0.337838  1.000000  \n"
          ]
        }
      ]
    },
    {
      "cell_type": "markdown",
      "source": [
        " Для визуализации корреляционной матрицы будем использовать \"тепловую карту\" heatmap которая показывает степень корреляции различными цветами:"
      ],
      "metadata": {
        "id": "rH7GEiZfkFuf"
      }
    },
    {
      "cell_type": "code",
      "source": [
        "sns.heatmap(data.corr())"
      ],
      "metadata": {
        "colab": {
          "base_uri": "https://localhost:8080/",
          "height": 318
        },
        "id": "yK6HTEG4kH9I",
        "outputId": "0189e210-51fc-4c90-f3d7-495defc0a29c"
      },
      "execution_count": null,
      "outputs": [
        {
          "output_type": "execute_result",
          "data": {
            "text/plain": [
              "<matplotlib.axes._subplots.AxesSubplot at 0x7f2cf8966ad0>"
            ]
          },
          "metadata": {},
          "execution_count": 9
        },
        {
          "output_type": "display_data",
          "data": {
            "text/plain": [
              "<Figure size 432x288 with 2 Axes>"
            ],
            "image/png": "[encoded data removed]"
          },
          "metadata": {
            "needs_background": "light"
          }
        }
      ]
    },
    {
      "cell_type": "markdown",
      "source": [
        "На основе корреляционной матрицы можно сделать следующие выводы:\n",
        "\n",
        "\n",
        "*   Целевой признак наиболее сильно коррелирует с типом боли в груди(0.43) и с максимальной частотой сердечных сокращений(0.42).Эти признаки стоит обязательно оставить в модели.\n",
        "*   Целевой признак совсем не коррелирует с возрастом (-0.22), полом(-0.27), кровяным давлением(-0.14) и с результатом электрокардиографии в состоянии покоя(-0.43). Скорее всего эти признаки стоит исключить из модели, возможно они только ухудшат качество модели.\n",
        "\n",
        "\n",
        "\n"
      ],
      "metadata": {
        "id": "FnNBxB2klKAm"
      }
    },
    {
      "cell_type": "markdown",
      "source": [
        "#Дополнительное задание по группам.\n",
        "Для колонки \"age\" построен график \"Ящик с усами (boxplot)\":"
      ],
      "metadata": {
        "id": "tvNfjWEC63F5"
      }
    },
    {
      "cell_type": "code",
      "source": [
        "data.boxplot(column='age')"
      ],
      "metadata": {
        "colab": {
          "base_uri": "https://localhost:8080/",
          "height": 283
        },
        "id": "npd_VfTu7Nda",
        "outputId": "c5e868c7-ae6d-4c2b-a4e7-c14971aae002"
      },
      "execution_count": 4,
      "outputs": [
        {
          "output_type": "execute_result",
          "data": {
            "text/plain": [
              "<matplotlib.axes._subplots.AxesSubplot at 0x7fc01f2e1d90>"
            ]
          },
          "metadata": {},
          "execution_count": 4
        },
        {
          "output_type": "display_data",
          "data": {
            "text/plain": [
              "<Figure size 432x288 with 1 Axes>"
            ],
            "image/png": "[encoded data removed]"
          },
          "metadata": {
            "needs_background": "light"
          }
        }
      ]
    }
  ]
}